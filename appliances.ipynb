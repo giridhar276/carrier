{
 "cells": [
  {
   "cell_type": "markdown",
   "id": "032066d3-6641-44bd-90d2-fb2911d440d5",
   "metadata": {},
   "source": [
    "import library"
   ]
  },
  {
   "cell_type": "code",
   "execution_count": null,
   "id": "0aa639b0-3751-44e7-a1f4-5a73ad6ef42a",
   "metadata": {},
   "outputs": [],
   "source": []
  },
  {
   "cell_type": "markdown",
   "id": "a580c644-8c42-49a1-a135-d4ddfd774caf",
   "metadata": {},
   "source": [
    "Load the dataset"
   ]
  },
  {
   "cell_type": "code",
   "execution_count": null,
   "id": "5daa5782-ae64-4da5-ac8d-85d2cf95a968",
   "metadata": {},
   "outputs": [],
   "source": []
  },
  {
   "cell_type": "markdown",
   "id": "34f3ec2a-a6f5-4054-9b80-d6b852eda878",
   "metadata": {},
   "source": [
    " Display the first 5 rows of the dataset"
   ]
  },
  {
   "cell_type": "code",
   "execution_count": null,
   "id": "0d36b312-dacb-4387-839c-58e8aea204da",
   "metadata": {},
   "outputs": [],
   "source": []
  },
  {
   "cell_type": "markdown",
   "id": "4140c97e-a304-4748-a868-9be264386ff6",
   "metadata": {},
   "source": [
    "Display the last 5 rows of the dataset"
   ]
  },
  {
   "cell_type": "code",
   "execution_count": null,
   "id": "41da3dfc-af2a-434c-8e6b-d3fdb1867ce5",
   "metadata": {},
   "outputs": [],
   "source": []
  },
  {
   "cell_type": "markdown",
   "id": "a5ce1962-ffdd-42ad-b875-6abf0ef5a163",
   "metadata": {},
   "source": [
    "Get the number of rows and columns"
   ]
  },
  {
   "cell_type": "code",
   "execution_count": null,
   "id": "2d461a87-e2bf-4a8e-a042-e8f3c66a5e48",
   "metadata": {},
   "outputs": [],
   "source": []
  },
  {
   "cell_type": "markdown",
   "id": "a9bbaaa8-ceb1-4bda-b621-792abb95aa30",
   "metadata": {},
   "source": [
    "Get the column names"
   ]
  },
  {
   "cell_type": "code",
   "execution_count": null,
   "id": "8ac0d1ed-a5cd-41b6-b7c6-c98d212795fc",
   "metadata": {},
   "outputs": [],
   "source": []
  },
  {
   "cell_type": "markdown",
   "id": "83be3da9-e56b-4339-ad03-26d38c8dde18",
   "metadata": {},
   "source": [
    " Get the data types of each column"
   ]
  },
  {
   "cell_type": "code",
   "execution_count": null,
   "id": "415506c3-6ff3-497c-8039-0f43f3bb6472",
   "metadata": {},
   "outputs": [],
   "source": []
  },
  {
   "cell_type": "markdown",
   "id": "4b4ba094-c038-4e00-9997-a44aaafd1d2a",
   "metadata": {},
   "source": [
    "Check for missing values"
   ]
  },
  {
   "cell_type": "code",
   "execution_count": null,
   "id": "19c9daac-0f59-4ca2-b28c-af59e44ff1f7",
   "metadata": {},
   "outputs": [],
   "source": []
  },
  {
   "cell_type": "markdown",
   "id": "716b6d10-b09a-4a3c-92e1-17ed62f660da",
   "metadata": {},
   "source": [
    "Describe the dataset"
   ]
  },
  {
   "cell_type": "code",
   "execution_count": null,
   "id": "8f21de77-c7ad-4234-8b74-4660e4f82360",
   "metadata": {},
   "outputs": [],
   "source": []
  },
  {
   "cell_type": "markdown",
   "id": "92a222bd-8a0e-46a0-b2b1-7e90502d073b",
   "metadata": {},
   "source": [
    "Find unique values in the 'Region' column"
   ]
  },
  {
   "cell_type": "code",
   "execution_count": null,
   "id": "9b1979b2-1a7c-4e6d-ad24-b5867ab90bac",
   "metadata": {},
   "outputs": [],
   "source": []
  },
  {
   "cell_type": "markdown",
   "id": "8156c1bd-7f6c-4ce1-9dda-160788ec2058",
   "metadata": {},
   "source": [
    "Filter data for a specific region (e.g., Europe)"
   ]
  },
  {
   "cell_type": "code",
   "execution_count": null,
   "id": "685910c1-1bab-4a7a-bddb-94ebcfb91dfa",
   "metadata": {},
   "outputs": [],
   "source": []
  },
  {
   "cell_type": "markdown",
   "id": "01babb65-30b7-419a-8a3e-fbf7baafbdb2",
   "metadata": {},
   "source": [
    "Group by 'Region' and get the mean of 'Sales'"
   ]
  },
  {
   "cell_type": "code",
   "execution_count": null,
   "id": "09689716-bf53-4f8c-af2a-3ac38efd5cd9",
   "metadata": {},
   "outputs": [],
   "source": []
  },
  {
   "cell_type": "markdown",
   "id": "d971359e-d3ec-4942-8689-d7ef72acb3f4",
   "metadata": {},
   "source": [
    "Sort data by 'Sales' in descending order"
   ]
  },
  {
   "cell_type": "code",
   "execution_count": null,
   "id": "30bc2f85-fbe2-45c5-9ad7-e9f47bc611b4",
   "metadata": {},
   "outputs": [],
   "source": []
  },
  {
   "cell_type": "markdown",
   "id": "f847ef21-7dad-4897-b15b-4ce71bd35516",
   "metadata": {},
   "source": [
    "Create a new column 'Total Cost' (Unit Cost * Order Qty)"
   ]
  },
  {
   "cell_type": "code",
   "execution_count": null,
   "id": "6ebf61cd-1bf3-4467-b6a5-daf26de7246f",
   "metadata": {},
   "outputs": [],
   "source": []
  },
  {
   "cell_type": "markdown",
   "id": "3a83434f-a32b-46e8-8d11-2970e3fdd02b",
   "metadata": {},
   "source": [
    " Filter data where 'Profit' is negative"
   ]
  },
  {
   "cell_type": "code",
   "execution_count": null,
   "id": "13b4a507-ae7c-4eb7-bced-cba002feea4c",
   "metadata": {},
   "outputs": [],
   "source": []
  },
  {
   "cell_type": "markdown",
   "id": "e09bc5ca-d5e4-4358-9ee2-1fe45543a54a",
   "metadata": {},
   "source": [
    "Get the maximum 'Sales' value"
   ]
  },
  {
   "cell_type": "code",
   "execution_count": null,
   "id": "75288a1e-48ad-4973-9643-be15628a9ac2",
   "metadata": {},
   "outputs": [],
   "source": []
  },
  {
   "cell_type": "markdown",
   "id": "44b6069c-9321-46eb-9bc4-1ff48a4cb53b",
   "metadata": {},
   "source": [
    "Get the row with the maximum 'Sales' value"
   ]
  },
  {
   "cell_type": "code",
   "execution_count": null,
   "id": "96c490bc-7ed1-46ac-afdf-4267f30cf627",
   "metadata": {},
   "outputs": [],
   "source": []
  },
  {
   "cell_type": "markdown",
   "id": "7d6870c2-977d-4105-bd9f-381c6be46b15",
   "metadata": {},
   "source": [
    "Get the minimum 'Profit' value"
   ]
  },
  {
   "cell_type": "code",
   "execution_count": null,
   "id": "965f8d75-412a-4ac2-b7dd-d6f9ffd11e49",
   "metadata": {},
   "outputs": [],
   "source": []
  },
  {
   "cell_type": "markdown",
   "id": "5cdbf53d-72ca-4058-a540-1c3febe09862",
   "metadata": {},
   "source": [
    " Get the row with the minimum 'Profit' value"
   ]
  },
  {
   "cell_type": "code",
   "execution_count": null,
   "id": "55e3fff5-9bfd-4349-8ea5-638ca4cffd11",
   "metadata": {},
   "outputs": [],
   "source": []
  },
  {
   "cell_type": "markdown",
   "id": "7bf33e97-ea2d-4af1-ad0f-b40d06c7ec90",
   "metadata": {},
   "source": [
    "Calculate the total 'Sales' for each 'Product Category'"
   ]
  },
  {
   "cell_type": "code",
   "execution_count": null,
   "id": "22a1c2c1-1db9-441f-9658-6410510d69c0",
   "metadata": {},
   "outputs": [],
   "source": []
  },
  {
   "cell_type": "markdown",
   "id": "17fea4b6-6450-4ab4-8fe8-034fc1ab5531",
   "metadata": {},
   "source": [
    "Plot a bar chart of total 'Sales' by 'Product Category'"
   ]
  },
  {
   "cell_type": "code",
   "execution_count": null,
   "id": "241070a9-6322-4e07-afdb-8d75c720ae6c",
   "metadata": {},
   "outputs": [],
   "source": []
  },
  {
   "cell_type": "markdown",
   "id": "35ab9f18-22c2-4dbc-860c-e04cc4a37d6d",
   "metadata": {},
   "source": [
    "Calculate the average 'Unit Cost' for each 'Product Category'"
   ]
  },
  {
   "cell_type": "code",
   "execution_count": null,
   "id": "9e9b8154-8575-41ec-956f-eabf27d16678",
   "metadata": {},
   "outputs": [],
   "source": []
  },
  {
   "cell_type": "markdown",
   "id": "24425697-2f7c-4ac4-9a0a-5c3a5fdffab2",
   "metadata": {},
   "source": [
    "Find the number of unique 'Product Name'"
   ]
  },
  {
   "cell_type": "code",
   "execution_count": null,
   "id": "71e5ae13-529c-4e6c-8ac3-0a492658583d",
   "metadata": {},
   "outputs": [],
   "source": []
  },
  {
   "cell_type": "markdown",
   "id": "f3a20810-862d-4ca0-ba14-1480b699439a",
   "metadata": {},
   "source": [
    "Get the top 5 'Product Name' by 'Sales'"
   ]
  },
  {
   "cell_type": "code",
   "execution_count": null,
   "id": "10962d73-06ba-4bef-b1e7-debff108ce66",
   "metadata": {},
   "outputs": [],
   "source": []
  },
  {
   "cell_type": "markdown",
   "id": "dcbcf692-efc8-410f-b981-b3551ff3b813",
   "metadata": {},
   "source": [
    "Get the number of orders for each 'Channel'"
   ]
  },
  {
   "cell_type": "code",
   "execution_count": null,
   "id": "6f7e96fe-b713-441f-880d-1662544eac12",
   "metadata": {},
   "outputs": [],
   "source": []
  },
  {
   "cell_type": "markdown",
   "id": "29ec98c3-42ac-4c53-a1e5-54be3223ae81",
   "metadata": {},
   "source": [
    "Calculate the total 'Profit' for each 'Country'"
   ]
  },
  {
   "cell_type": "code",
   "execution_count": null,
   "id": "a533c65a-b796-47eb-bec9-a8b3916eb82b",
   "metadata": {},
   "outputs": [],
   "source": []
  },
  {
   "cell_type": "markdown",
   "id": "af3e84dd-a7d2-4395-9ef8-39638cad887e",
   "metadata": {},
   "source": [
    "Plot a pie chart of total 'Sales' by 'Region'"
   ]
  },
  {
   "cell_type": "code",
   "execution_count": null,
   "id": "bac23199-055d-46a8-9db7-fc8364e6cfc5",
   "metadata": {},
   "outputs": [],
   "source": []
  },
  {
   "cell_type": "markdown",
   "id": "0af27b4c-4947-449a-a5c2-03fba8d4f7b1",
   "metadata": {},
   "source": [
    "Create a new column 'Profit Margin' (Profit / Sales)"
   ]
  },
  {
   "cell_type": "code",
   "execution_count": null,
   "id": "0ea9c520-a114-458c-86ba-8e3c92906d23",
   "metadata": {},
   "outputs": [],
   "source": []
  },
  {
   "cell_type": "markdown",
   "id": "8a17935d-a857-495a-8b9a-60a9f7becfd1",
   "metadata": {},
   "source": [
    "Find the top 10 orders by 'Profit Margin'"
   ]
  },
  {
   "cell_type": "code",
   "execution_count": null,
   "id": "90a2b6bb-95b3-4e2d-a719-726ac74da0a7",
   "metadata": {},
   "outputs": [],
   "source": []
  },
  {
   "cell_type": "markdown",
   "id": "51d571f1-4f0e-49ec-84b3-677c80274291",
   "metadata": {},
   "source": [
    "Group by 'Country' and get the count of orders"
   ]
  },
  {
   "cell_type": "code",
   "execution_count": null,
   "id": "4a349869-97cf-4f35-908d-192c33827e2e",
   "metadata": {},
   "outputs": [],
   "source": []
  },
  {
   "cell_type": "markdown",
   "id": "8e6fff2a-65d6-44d6-a9de-3cdd6aaa57ca",
   "metadata": {},
   "source": [
    "Calculate the average 'Price' for each 'Product Sub Category'"
   ]
  },
  {
   "cell_type": "code",
   "execution_count": null,
   "id": "33e3c838-747c-45f1-807f-b5ca210d7a6c",
   "metadata": {},
   "outputs": [],
   "source": []
  },
  {
   "cell_type": "markdown",
   "id": "b44c8d7d-9417-4b5b-9546-33457f9c93de",
   "metadata": {},
   "source": [
    " Filter data for a specific manufacturer (e.g., Contoso, Ltd)"
   ]
  },
  {
   "cell_type": "code",
   "execution_count": null,
   "id": "64c315e7-afb8-43ec-b6b9-fcffd050d677",
   "metadata": {},
   "outputs": [],
   "source": []
  },
  {
   "cell_type": "markdown",
   "id": "19be1d12-528b-4cba-aafb-cbb8957f5e13",
   "metadata": {},
   "source": [
    "Calculate the total 'Sales' and 'Profit' for each 'Manufacturer'"
   ]
  },
  {
   "cell_type": "code",
   "execution_count": null,
   "id": "cb3406be-c525-43e2-9592-8392aee8ed90",
   "metadata": {},
   "outputs": [],
   "source": []
  },
  {
   "cell_type": "markdown",
   "id": "196b74ad-e504-4dd5-939d-fe7c5983f159",
   "metadata": {},
   "source": [
    "Plot a line chart of 'Sales' over time"
   ]
  },
  {
   "cell_type": "code",
   "execution_count": null,
   "id": "6bcab76b-2ae6-46f9-83fc-ba118190a3ac",
   "metadata": {},
   "outputs": [],
   "source": []
  },
  {
   "cell_type": "markdown",
   "id": "f7334e3f-7a4c-4f31-b02a-b69335515be4",
   "metadata": {},
   "source": [
    "Calculate the total 'Sales' for each 'City'"
   ]
  },
  {
   "cell_type": "code",
   "execution_count": null,
   "id": "1d0cac56-936f-4185-9f19-1d4af90e0987",
   "metadata": {},
   "outputs": [],
   "source": []
  },
  {
   "cell_type": "markdown",
   "id": "f164c4e6-25d0-4d27-981c-53c79e2cc4d0",
   "metadata": {},
   "source": [
    "Plot a bar chart of total 'Sales' by 'City'"
   ]
  },
  {
   "cell_type": "code",
   "execution_count": null,
   "id": "214fce55-d94e-4c33-8bad-479c87de4463",
   "metadata": {},
   "outputs": [],
   "source": []
  },
  {
   "cell_type": "markdown",
   "id": "ee219870-3826-46c4-af90-154a7b584a90",
   "metadata": {},
   "source": [
    " Calculate the average 'Order Qty' for each 'Promotion Name'"
   ]
  },
  {
   "cell_type": "code",
   "execution_count": null,
   "id": "f656e475-135f-4bbc-9c2c-25b2c1e18f73",
   "metadata": {},
   "outputs": [],
   "source": []
  },
  {
   "cell_type": "markdown",
   "id": "97a88b06-49ee-4918-ab50-82cd599d25c1",
   "metadata": {},
   "source": [
    "Get the number of orders for each 'Product Sub Category'"
   ]
  },
  {
   "cell_type": "code",
   "execution_count": null,
   "id": "bd940ec8-be19-4633-ba2f-c7c09fd4446c",
   "metadata": {},
   "outputs": [],
   "source": []
  },
  {
   "cell_type": "markdown",
   "id": "4f64bd49-7206-46f5-9736-f618419e05cb",
   "metadata": {},
   "source": [
    "Calculate the total 'Cost of Sales' for each 'Channel'"
   ]
  },
  {
   "cell_type": "code",
   "execution_count": null,
   "id": "5a5aed4d-0352-46db-b963-700c737c5cce",
   "metadata": {},
   "outputs": [],
   "source": []
  },
  {
   "cell_type": "markdown",
   "id": "3598036c-1f49-4e50-abd0-75a1ed183e46",
   "metadata": {},
   "source": [
    "Calculate the total 'Profit' for each 'Region'"
   ]
  },
  {
   "cell_type": "code",
   "execution_count": null,
   "id": "0172111d-2f61-4f84-a57c-a5db61563ee1",
   "metadata": {},
   "outputs": [],
   "source": []
  },
  {
   "cell_type": "markdown",
   "id": "417cf653-e09e-41e8-b6c5-6d72864ee63e",
   "metadata": {},
   "source": [
    "Plot a bar chart of total 'Profit' by 'Region'"
   ]
  },
  {
   "cell_type": "code",
   "execution_count": null,
   "id": "123977e8-3c10-45c1-a5a3-49507ec4cbe0",
   "metadata": {},
   "outputs": [],
   "source": []
  },
  {
   "cell_type": "markdown",
   "id": "a406d95b-7fff-42f3-b412-3d61f7b09fef",
   "metadata": {},
   "source": [
    "Find the top 5 'Promotion Name' by 'Sales'"
   ]
  },
  {
   "cell_type": "code",
   "execution_count": null,
   "id": "f2c8fca7-4acf-4213-a85c-a0532e984b12",
   "metadata": {},
   "outputs": [],
   "source": []
  },
  {
   "cell_type": "markdown",
   "id": "8bb54394-f5f2-4972-b95e-ebdc12422fd2",
   "metadata": {},
   "source": [
    "Calculate the average 'Price' for each 'Manufacturer'"
   ]
  },
  {
   "cell_type": "code",
   "execution_count": null,
   "id": "12840a53-bf39-485d-a2f3-13e0c7c3cf57",
   "metadata": {},
   "outputs": [],
   "source": []
  },
  {
   "cell_type": "markdown",
   "id": "06d0c8b7-bc1a-41a7-b0b9-e995c98a65ce",
   "metadata": {},
   "source": [
    "Filter data for a specific product category (e.g., Computers)"
   ]
  },
  {
   "cell_type": "code",
   "execution_count": null,
   "id": "c43b5e3c-1b9c-4258-85cf-4ac5bb272789",
   "metadata": {},
   "outputs": [],
   "source": []
  },
  {
   "cell_type": "markdown",
   "id": "011e7a63-1c77-4aaf-9093-8a40fe835acc",
   "metadata": {},
   "source": [
    "Calculate the total 'Sales' for each 'Promotion Name'"
   ]
  },
  {
   "cell_type": "code",
   "execution_count": null,
   "id": "e6cb4a7a-f9d5-4c36-a972-26aaa6143d3e",
   "metadata": {},
   "outputs": [],
   "source": []
  },
  {
   "cell_type": "markdown",
   "id": "8613b284-e5c5-4941-b6c9-dbe8b897d86a",
   "metadata": {},
   "source": [
    "Plot a bar chart of total 'Sales' by 'Promotion Name'"
   ]
  },
  {
   "cell_type": "code",
   "execution_count": null,
   "id": "b565e2d6-c661-4106-a65d-5752e578a3ff",
   "metadata": {},
   "outputs": [],
   "source": []
  },
  {
   "cell_type": "markdown",
   "id": "464540c1-0b6b-42c4-9c1d-aa4ae689c9f7",
   "metadata": {},
   "source": [
    "Calculate the total 'Sales' and 'Profit' for each 'Product Sub Category'"
   ]
  },
  {
   "cell_type": "code",
   "execution_count": null,
   "id": "8fcd5a8a-4516-4ac6-b718-a5f060fcded1",
   "metadata": {},
   "outputs": [],
   "source": []
  },
  {
   "cell_type": "markdown",
   "id": "3af79926-bf46-4cfc-b42b-156bf1f462c7",
   "metadata": {},
   "source": [
    "Get the average 'Profit Margin' for each 'Region'"
   ]
  },
  {
   "cell_type": "code",
   "execution_count": null,
   "id": "07e61653-4b7d-42ea-956c-9ad46cc5e7f1",
   "metadata": {},
   "outputs": [],
   "source": []
  },
  {
   "cell_type": "markdown",
   "id": "423d2f40-1460-4e1d-b065-2420dd090d69",
   "metadata": {},
   "source": [
    "Filter data for orders with 'Order Qty' greater than 10"
   ]
  },
  {
   "cell_type": "code",
   "execution_count": null,
   "id": "5d98b1bf-c804-4c34-9231-8d991ab5bbbb",
   "metadata": {},
   "outputs": [],
   "source": []
  },
  {
   "cell_type": "markdown",
   "id": "f3132654-7fbb-4c11-b85f-301574c59a17",
   "metadata": {},
   "source": [
    "Calculate the total 'Sales' for each 'City' in Europe"
   ]
  },
  {
   "cell_type": "code",
   "execution_count": null,
   "id": "5e7b2812-da49-4920-90d1-7d326f0f6b3b",
   "metadata": {},
   "outputs": [],
   "source": []
  },
  {
   "cell_type": "markdown",
   "id": "96c4558c-8516-446a-a161-3b2b7a94ef52",
   "metadata": {},
   "source": [
    "Find the top 5 'City' by 'Sales' in Europe"
   ]
  },
  {
   "cell_type": "code",
   "execution_count": null,
   "id": "3744e7b4-fab3-4014-9745-62935e394433",
   "metadata": {},
   "outputs": [],
   "source": []
  }
 ],
 "metadata": {
  "kernelspec": {
   "display_name": "Python 3 (ipykernel)",
   "language": "python",
   "name": "python3"
  },
  "language_info": {
   "codemirror_mode": {
    "name": "ipython",
    "version": 3
   },
   "file_extension": ".py",
   "mimetype": "text/x-python",
   "name": "python",
   "nbconvert_exporter": "python",
   "pygments_lexer": "ipython3",
   "version": "3.11.7"
  }
 },
 "nbformat": 4,
 "nbformat_minor": 5
}
